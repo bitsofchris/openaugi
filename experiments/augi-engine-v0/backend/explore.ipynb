{
 "cells": [
  {
   "cell_type": "code",
   "execution_count": null,
   "metadata": {},
   "outputs": [],
   "source": [
    "import numpy as np\n",
    "import matplotlib.pyplot as plt\n",
    "import seaborn as sns\n",
    "from selector import IntraClusterSimilarityFilter\n",
    "from storage import KnowledgeStore\n",
    "from clusterer import UMAPHDBSCANClusterer\n",
    "import config\n",
    "\n",
    "# Load documents from LanceDB\n",
    "store = KnowledgeStore(\"/Users/chris/repos/openaugi/data/vector_db\")\n",
    "atomic_notes = store.get_all_atomic_notes()\n",
    "print(f\"Loaded {len(atomic_notes)} atomic notes from LanceDB\")\n",
    "\n"
   ]
  },
  {
   "cell_type": "code",
   "execution_count": null,
   "metadata": {},
   "outputs": [],
   "source": [
    "# Cluster the documents\n",
    "clusterer = UMAPHDBSCANClusterer()\n",
    "clusters = clusterer.cluster_documents(atomic_notes)\n",
    "print(f\"Found {len(clusters)} clusters\")\n"
   ]
  },
  {
   "cell_type": "code",
   "execution_count": null,
   "metadata": {},
   "outputs": [],
   "source": [
    "# Select a cluster to examine (change the index to examine different clusters)\n",
    "cluster_idx = 0  # First cluster\n",
    "if len(clusters) > 0:\n",
    "    selected_cluster = clusters[cluster_idx]\n",
    "    print(f\"Examining cluster {cluster_idx} with {len(selected_cluster)} documents\")\n",
    "\n",
    "    # Create a similarity filter\n",
    "    similarity_filter = IntraClusterSimilarityFilter()\n",
    "\n",
    "    # Compute similarity matrix for the selected cluster\n",
    "    similarity_matrix = similarity_filter._compute_similarity_matrix(selected_cluster)\n",
    "\n",
    "    # Print document titles for reference\n",
    "    print(\"\\nDocuments in this cluster:\")\n",
    "    for i, doc in enumerate(selected_cluster):\n",
    "        title = doc.metadata.get(\"idea_title\", f\"Document {i}\")\n",
    "        print(f\"{i}: {title}\")\n",
    "\n",
    "    # Visualize the similarity matrix as a heatmap\n",
    "    plt.figure(figsize=(10, 8))\n",
    "    sns.heatmap(similarity_matrix, annot=True, cmap='viridis',\n",
    "                xticklabels=range(len(selected_cluster)),\n",
    "                yticklabels=range(len(selected_cluster)))\n",
    "    plt.title(f\"Similarity Matrix for Cluster {cluster_idx}\")\n",
    "    plt.show()\n",
    "\n",
    "    # Find similarity groups within this cluster\n",
    "    similarity_groups = similarity_filter.find_similarity_groups(selected_cluster)\n",
    "    print(f\"\\nFound {len(similarity_groups)} similarity groups in this cluster\")\n",
    "\n",
    "    # Print the similarity groups\n",
    "    for i, group in enumerate(similarity_groups):\n",
    "        print(f\"\\nSimilarity Group {i}:\")\n",
    "        for doc in group:\n",
    "            title = doc.metadata.get(\"idea_title\", \"Untitled\")\n",
    "            print(f\"- {title}\")\n",
    "else:\n",
    "    print(\"No clusters found\")"
   ]
  }
 ],
 "metadata": {
  "kernelspec": {
   "display_name": ".venv",
   "language": "python",
   "name": "python3"
  },
  "language_info": {
   "codemirror_mode": {
    "name": "ipython",
    "version": 3
   },
   "file_extension": ".py",
   "mimetype": "text/x-python",
   "name": "python",
   "nbconvert_exporter": "python",
   "pygments_lexer": "ipython3",
   "version": "3.13.2"
  }
 },
 "nbformat": 4,
 "nbformat_minor": 2
}
