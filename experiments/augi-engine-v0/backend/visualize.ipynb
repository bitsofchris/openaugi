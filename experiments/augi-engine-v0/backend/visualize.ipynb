{
 "cells": [
  {
   "cell_type": "code",
   "execution_count": 1,
   "metadata": {},
   "outputs": [],
   "source": [
    "import os\n",
    "\n",
    "import config\n",
    "from storage import KnowledgeStore\n",
    "from visualizer import KnowledgeMapVisualizer\n",
    "\n",
    "# Initialize components\n",
    "store = KnowledgeStore(\"/Users/chris/repos/openaugi/data/vector_db\")\n",
    "visualizer = KnowledgeMapVisualizer(output_dir=os.path.join(config.OUTPUT_DIR, \"visualizations\"))\n"
   ]
  },
  {
   "cell_type": "code",
   "execution_count": 2,
   "metadata": {},
   "outputs": [
    {
     "name": "stdout",
     "output_type": "stream",
     "text": [
      "Loaded 881 atomic notes so far...\n",
      "Retrieved 881 atomic notes total\n",
      "Loaded 881 atomic notes\n",
      "Retrieved 118 clean/distilled notes\n",
      "Loaded 118 distilled notes\n"
     ]
    }
   ],
   "source": [
    "# Get all atomic and distilled notes\n",
    "atomic_notes = store.get_all_atomic_notes()\n",
    "print(f\"Loaded {len(atomic_notes)} atomic notes\")\n",
    "\n",
    "# Get clean/distilled notes\n",
    "distilled_notes = store.get_all_clean_notes()\n",
    "print(f\"Loaded {len(distilled_notes)} distilled notes\")\n",
    "\n"
   ]
  },
  {
   "cell_type": "code",
   "execution_count": 3,
   "metadata": {},
   "outputs": [
    {
     "name": "stderr",
     "output_type": "stream",
     "text": [
      "/Users/chris/repos/openaugi/.venv/lib/python3.13/site-packages/sklearn/utils/deprecation.py:151: FutureWarning: 'force_all_finite' was renamed to 'ensure_all_finite' in 1.6 and will be removed in 1.8.\n",
      "  warnings.warn(\n",
      "/Users/chris/repos/openaugi/.venv/lib/python3.13/site-packages/umap/umap_.py:1952: UserWarning: n_jobs value 1 overridden to 1 by setting random_state. Use no seed for parallelism.\n",
      "  warn(\n"
     ]
    },
    {
     "name": "stdout",
     "output_type": "stream",
     "text": [
      "Distilled-only knowledge map saved to: data/visualizations/visualizations/knowledge_map_20250314190634.html\n"
     ]
    }
   ],
   "source": [
    "# Create knowledge map, showing only distilled notes (diamonds)\n",
    "distilled_only_map_path = visualizer.create_knowledge_map(\n",
    "    atomic_notes=atomic_notes,\n",
    "    distilled_notes=distilled_notes,\n",
    "    include_connections=True,  # Set to True if you want to see connections\n",
    "    show_atomic_notes=True     # Set to False to show only distilled notes\n",
    ")\n",
    "\n",
    "print(f\"Distilled-only knowledge map saved to: {distilled_only_map_path}\")\n"
   ]
  },
  {
   "cell_type": "code",
   "execution_count": null,
   "metadata": {},
   "outputs": [],
   "source": [
    "# Display the HTML file in the notebook\n",
    "from IPython.display import IFrame, display, HTML\n",
    "\n",
    "# Set the size of the iframe (adjust as needed)\n",
    "display(HTML(f'<h3>Distilled Knowledge Map</h3>'))\n",
    "display(IFrame(distilled_only_map_path, width=1000, height=800))"
   ]
  }
 ],
 "metadata": {
  "kernelspec": {
   "display_name": ".venv",
   "language": "python",
   "name": "python3"
  },
  "language_info": {
   "codemirror_mode": {
    "name": "ipython",
    "version": 3
   },
   "file_extension": ".py",
   "mimetype": "text/x-python",
   "name": "python",
   "nbconvert_exporter": "python",
   "pygments_lexer": "ipython3",
   "version": "3.13.2"
  }
 },
 "nbformat": 4,
 "nbformat_minor": 2
}
